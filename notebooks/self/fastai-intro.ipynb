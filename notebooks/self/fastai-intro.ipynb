{
 "cells": [
  {
   "metadata": {},
   "cell_type": "markdown",
   "source": [
    "# Complete Jupyter, Python & FastAI Tutorial\n",
    "\n",
    "**A comprehensive introduction for the Practical Deep Learning for Coders course**\n",
    "\n",
    "This notebook combines the best of three tutorials to provide you with everything you need to get started:\n",
    "\n",
    "1. **Jupyter Notebook Mastery** - Interface, shortcuts, and best practices\n",
    "2. **Python Fundamentals** - Essential concepts for machine learning\n",
    "3. **Data Science Libraries** - NumPy, Pandas, and Matplotlib\n",
    "4. **FastAI Introduction** - Getting started with the FastAI library\n",
    "5. **Local Development** - Why local setup beats cloud platforms\n",
    "\n",
    "> **Note**: This tutorial combines content from the original Kaggle notebook with custom enhancements for local development.\n"
   ],
   "id": "e3a7681039308ef7"
  },
  {
   "metadata": {},
   "cell_type": "markdown",
   "source": [
    "## Part 1: Understanding Jupyter Notebooks\n",
    "\n",
    "### What is a Jupyter Notebook?\n",
    "\n",
    "A Jupyter notebook is an interactive computing environment that allows you to combine code, text, equations, and visualizations in a single document. It's perfect for:\n",
    "- Data exploration and analysis\n",
    "- Machine learning experiments\n",
    "- Educational content\n",
    "- Prototyping and research\n",
    "\n",
    "Let's build up from the basics: what is a Jupyter Notebook? A notebook is a document made of cells. You can write in some of them (markdown cells) or you can perform calculations in Python (code cells) and run them like this:\n"
   ],
   "id": "88d1fa7a68af77e3"
  },
  {
   "metadata": {},
   "cell_type": "code",
   "outputs": [],
   "execution_count": null,
   "source": "1+1\n",
   "id": "55cab61a8de541be"
  },
  {
   "metadata": {},
   "cell_type": "markdown",
   "source": [
    "Cool, huh? This combination of prose and code makes Jupyter Notebook ideal for experimentation: we can see the rationale for each experiment, the code, and the results in one comprehensive document.\n",
    "\n",
    "Other renowned institutions in academia and industry use Jupyter Notebook, including Google, Microsoft, IBM, Bloomberg, Berkeley and NASA among others. Even Nobel-winning economists [use Jupyter Notebooks](https://paulromer.net/jupyter-mathematica-and-the-future-of-the-research-paper/) for their experiments and some suggest that Jupyter Notebooks will be the [new format for research papers](https://www.theatlantic.com/science/archive/2018/04/the-scientific-paper-is-obsolete/556676/).\n"
   ],
   "id": "ac418aa4308f59f5"
  },
  {
   "metadata": {},
   "cell_type": "markdown",
   "source": [
    "### Cell Types\n",
    "\n",
    "Jupyter notebooks consist of cells. There are three main types:\n",
    "1. **Code cells** - contain executable code\n",
    "2. **Markdown cells** - contain formatted text (like this cell)\n",
    "3. **Raw cells** - contain unformatted text\n",
    "\n",
    "### Writing in Markdown\n",
    "\n",
    "A type of cell in which you can write text is called a _Markdown cell_. [_Markdown_](https://en.wikipedia.org/wiki/Markdown) is a very popular markup language. To specify that a cell is Markdown you need to click in the drop-down menu in the toolbar and select Markdown.\n"
   ],
   "id": "b4442688d8e5017e"
  },
  {
   "metadata": {},
   "cell_type": "markdown",
   "source": "My first markdown cell\n",
   "id": "b9801d3e8156d5eb"
  },
  {
   "metadata": {},
   "cell_type": "markdown",
   "source": "Now try making your first _Code_ cell: follow the same steps as before but click \"+ Code\". Type something like 3/2. You should see '1.5' as output.\n",
   "id": "38d9022c81ed5d9b"
  },
  {
   "metadata": {},
   "cell_type": "code",
   "outputs": [],
   "execution_count": null,
   "source": "3/2\n",
   "id": "509bb6c88996ed6a"
  },
  {
   "metadata": {},
   "cell_type": "markdown",
   "source": [
    "### Modes\n",
    "\n",
    "If you made a mistake in your *Markdown* cell and you have already run it, you will notice that you cannot edit it just by clicking on it. This is because you are in **Command Mode**. Jupyter Notebooks have two distinct modes:\n",
    "\n",
    "- **Edit Mode**: Allows you to edit a cell's content (green border)\n",
    "- **Command Mode**: Allows you to edit the notebook as a whole and use keyboard shortcuts but not edit a cell's content (blue border)\n",
    "\n",
    "You can toggle between these two by either pressing <kbd>ESC</kbd> and <kbd>Enter</kbd> or clicking outside a cell or inside it (you need to double click if it's a Markdown cell).\n"
   ],
   "id": "51b76a6528799e22"
  },
  {
   "metadata": {},
   "cell_type": "markdown",
   "source": [
    "### Essential Keyboard Shortcuts\n",
    "\n",
    "There are shortcuts you must know about which we use **all** the time (always in **Command Mode**):\n",
    "\n",
    "**Navigation & Execution:**\n",
    "- <kbd>Shift</kbd>+<kbd>Enter</kbd>: Run cell and move to next\n",
    "- <kbd>Ctrl</kbd>+<kbd>Enter</kbd>: Run cell and stay\n",
    "- <kbd>Up Arrow</kbd> / <kbd>Down Arrow</kbd>: Navigate between cells\n",
    "\n",
    "**Cell Management:**\n",
    "- <kbd>A</kbd>: Insert cell above\n",
    "- <kbd>B</kbd>: Insert cell below\n",
    "- <kbd>DD</kbd>: Delete cell\n",
    "- <kbd>M</kbd>: Change to markdown cell\n",
    "- <kbd>Y</kbd>: Change to code cell\n",
    "\n",
    "**System:**\n",
    "- <kbd>00</kbd>: Reset Kernel\n",
    "- <kbd>H</kbd>: Show help (all shortcuts)\n",
    "\n",
    "You can find more shortcuts by typing <kbd>h</kbd> (for help).\n"
   ],
   "id": "f69f27074dcd9fe3"
  },
  {
   "metadata": {},
   "cell_type": "markdown",
   "source": [
    "### Shell Commands\n",
    "\n",
    "You may need to use shell commands, like `ls` or `cat` in a Jupyter Notebook environment. That is very easy to do: just type `!` before your shell command, like so:\n"
   ],
   "id": "63fa1c74a87a595c"
  },
  {
   "metadata": {},
   "cell_type": "code",
   "outputs": [],
   "execution_count": null,
   "source": "!pwd\n",
   "id": "e6decacae8297c04"
  },
  {
   "metadata": {},
   "cell_type": "markdown",
   "source": [
    "### Important Considerations\n",
    "\n",
    "Your notebook is autosaved every 120 seconds. If you want to manually save it you can just press the \"save version\" button on the upper right corner.\n",
    "\n",
    "To know if your *kernel* (the Python engine executing your instructions behind the scenes) is computing or not, you can check the icon to the left of your cell. If the dot is spinning, it means that the kernel is working. If not, it is idle.\n"
   ],
   "id": "84098f808df588a1"
  },
  {
   "metadata": {},
   "cell_type": "markdown",
   "source": [
    "## Part 2: Python Fundamentals for Machine Learning\n",
    "\n",
    "Let's start with some basic Python operations that you'll use constantly in machine learning:\n"
   ],
   "id": "a5c53b126f0b7011"
  },
  {
   "metadata": {},
   "cell_type": "code",
   "outputs": [],
   "execution_count": null,
   "source": [
    "# Welcome message\n",
    "print(\"🚀 Welcome to your local FastAI environment!\")\n",
    "print(\"✅ Python is working\")\n",
    "\n",
    "# Basic arithmetic\n",
    "print(\"\\n=== Basic Arithmetic ===\")\n",
    "print(\"2 + 3 =\", 2 + 3)\n",
    "print(\"10 * 5 =\", 10 * 5)\n",
    "print(\"15 / 3 =\", 15 / 3)\n",
    "print(\"2 ** 8 =\", 2 ** 8)\n"
   ],
   "id": "38066e11a45d2db1"
  },
  {
   "metadata": {},
   "cell_type": "code",
   "outputs": [],
   "execution_count": null,
   "source": [
    "# Variables and strings\n",
    "name = \"Fast.AI Student\"\n",
    "age = 25\n",
    "print(f\"Hello, {name}! You are {age} years old.\")\n",
    "\n",
    "# Basic Python for ML\n",
    "numbers = [1, 2, 3, 4, 5]\n",
    "print(f\"📊 Sample data: {numbers}\")\n",
    "print(f\"📈 Sum: {sum(numbers)}, Average: {sum(numbers)/len(numbers)}\")\n"
   ],
   "id": "a31059acc73e9269"
  },
  {
   "metadata": {},
   "cell_type": "markdown",
   "source": "### Working with Lists and Loops\n",
   "id": "8cdd8a2bb9a6322"
  },
  {
   "metadata": {},
   "cell_type": "code",
   "outputs": [],
   "execution_count": null,
   "source": [
    "# Creating and working with lists\n",
    "fruits = ['apple', 'banana', 'orange', 'grape', 'kiwi']\n",
    "print(\"Fruits list:\", fruits)\n",
    "print(\"First fruit:\", fruits[0])\n",
    "print(\"Last fruit:\", fruits[-1])\n",
    "print(\"Number of fruits:\", len(fruits))\n"
   ],
   "id": "1d9a065cfb71c862"
  },
  {
   "metadata": {},
   "cell_type": "code",
   "outputs": [],
   "execution_count": null,
   "source": [
    "# Loop through the list\n",
    "print(\"All fruits:\")\n",
    "for i, fruit in enumerate(fruits, 1):\n",
    "    print(f\"{i}. {fruit.title()}\")\n"
   ],
   "id": "7393235bcde07f80"
  },
  {
   "metadata": {},
   "cell_type": "markdown",
   "source": [
    "## Part 3: Essential Data Science Libraries\n",
    "\n",
    "One of the most powerful features of Python is its extensive library ecosystem. Let's import and explore the essential libraries for data science and machine learning:\n"
   ],
   "id": "cc4063381032f2a4"
  },
  {
   "metadata": {},
   "cell_type": "code",
   "outputs": [],
   "execution_count": null,
   "source": [
    "# Import essential libraries\n",
    "import numpy as np\n",
    "import pandas as pd\n",
    "import matplotlib.pyplot as plt\n",
    "import seaborn as sns\n",
    "from pathlib import Path\n",
    "import requests\n",
    "from tqdm import tqdm\n",
    "\n",
    "print(\"Libraries imported successfully!\")\n",
    "print(f\"NumPy version: {np.__version__}\")\n",
    "print(f\"Pandas version: {pd.__version__}\")\n"
   ],
   "id": "89123e68224fb934"
  },
  {
   "metadata": {},
   "cell_type": "markdown",
   "source": "### Working with NumPy Arrays\n",
   "id": "53e7b93e05988cee"
  },
  {
   "metadata": {},
   "cell_type": "code",
   "outputs": [],
   "execution_count": null,
   "source": [
    "# Create NumPy arrays\n",
    "arr1 = np.array([1, 2, 3, 4, 5])\n",
    "arr2 = np.arange(10, 60, 10)\n",
    "arr3 = np.random.randint(1, 100, size=5)\n",
    "\n",
    "print(\"Array 1:\", arr1)\n",
    "print(\"Array 2:\", arr2)\n",
    "print(\"Array 3 (random):\", arr3)\n",
    "print(\"Array 1 + Array 2:\", arr1 + arr2)\n",
    "print(\"Mean of Array 3:\", np.mean(arr3))\n"
   ],
   "id": "e561eaad3be47b12"
  },
  {
   "metadata": {},
   "cell_type": "markdown",
   "source": "### Creating and Manipulating DataFrames with Pandas\n",
   "id": "f1e9179de11d6a14"
  },
  {
   "metadata": {},
   "cell_type": "code",
   "outputs": [],
   "execution_count": null,
   "source": [
    "# Create a sample DataFrame\n",
    "data = {\n",
    "    'Name': ['Alice', 'Bob', 'Charlie', 'Diana', 'Eve'],\n",
    "    'Age': [25, 30, 35, 28, 32],\n",
    "    'City': ['New York', 'London', 'Tokyo', 'Paris', 'Sydney'],\n",
    "    'Salary': [50000, 60000, 70000, 55000, 65000]\n",
    "}\n",
    "\n",
    "df = pd.DataFrame(data)\n",
    "print(\"Sample DataFrame:\")\n",
    "print(df)\n",
    "print(\"\\nDataFrame info:\")\n",
    "print(df.info())\n"
   ],
   "id": "1edbcaae4ae3e8bf"
  },
  {
   "metadata": {},
   "cell_type": "code",
   "outputs": [],
   "execution_count": null,
   "source": [
    "# Basic DataFrame operations\n",
    "print(\"Average age:\", df['Age'].mean())\n",
    "print(\"Maximum salary:\", df['Salary'].max())\n",
    "print(\"\\nPeople older than 30:\")\n",
    "print(df[df['Age'] > 30])\n"
   ],
   "id": "f8d38cd5734b5fca"
  },
  {
   "metadata": {},
   "cell_type": "markdown",
   "source": "### Data Visualization with Matplotlib\n",
   "id": "bad49a250ce01bb4"
  },
  {
   "metadata": {},
   "cell_type": "code",
   "outputs": [],
   "execution_count": null,
   "source": [
    "# Create a simple plot\n",
    "plt.figure(figsize=(10, 6))\n",
    "\n",
    "# Subplot 1: Bar chart of ages\n",
    "plt.subplot(1, 2, 1)\n",
    "plt.bar(df['Name'], df['Age'], color='skyblue')\n",
    "plt.title('Ages by Person')\n",
    "plt.xlabel('Name')\n",
    "plt.ylabel('Age')\n",
    "plt.xticks(rotation=45)\n",
    "\n",
    "# Subplot 2: Scatter plot of age vs salary\n",
    "plt.subplot(1, 2, 2)\n",
    "plt.scatter(df['Age'], df['Salary'], color='coral', s=100)\n",
    "plt.title('Age vs Salary')\n",
    "plt.xlabel('Age')\n",
    "plt.ylabel('Salary')\n",
    "\n",
    "plt.tight_layout()\n",
    "plt.show()\n"
   ],
   "id": "af242ce9bd5e68ca"
  },
  {
   "metadata": {},
   "cell_type": "markdown",
   "source": [
    "## Part 4: FastAI Introduction\n",
    "\n",
    "Now let's get started with FastAI - the library that makes deep learning accessible to everyone!\n"
   ],
   "id": "909b2cd39f539d59"
  },
  {
   "metadata": {},
   "cell_type": "code",
   "outputs": [],
   "execution_count": null,
   "source": [
    "# Test FastAI import\n",
    "try:\n",
    "    import fastai\n",
    "    from fastai.vision.all import *\n",
    "    print(f\"🎯 FastAI version: {fastai.__version__}\")\n",
    "    print(\"✅ FastAI imported successfully!\")\n",
    "except ImportError as e:\n",
    "    print(f\"❌ FastAI import failed: {e}\")\n",
    "    print(\"💡 Make sure you've run: uv sync\")\n"
   ],
   "id": "3a53bba43417b81b"
  },
  {
   "metadata": {},
   "cell_type": "markdown",
   "source": [
    "### FastAI Philosophy\n",
    "\n",
    "FastAI follows a **top-down** approach:\n",
    "1. **Start with working models** - Get results first\n",
    "2. **Iterate and improve** - Make it better step by step\n",
    "3. **Understand the theory** - Learn why it works\n",
    "\n",
    "This is different from traditional bottom-up teaching!\n"
   ],
   "id": "4c83e6c66f8fed00"
  },
  {
   "metadata": {},
   "cell_type": "markdown",
   "source": "### System Check\n",
   "id": "4108de83548077a8"
  },
  {
   "metadata": {},
   "cell_type": "code",
   "outputs": [],
   "execution_count": null,
   "source": [
    "# Quick system check\n",
    "import sys\n",
    "import psutil\n",
    "\n",
    "print(\"🖥️  System Information:\")\n",
    "print(f\"   Python: {sys.version.split()[0]}\")\n",
    "print(f\"   RAM: {psutil.virtual_memory().total // (1024**3)} GB\")\n",
    "\n",
    "# Check for GPU\n",
    "try:\n",
    "    import torch\n",
    "    if torch.cuda.is_available():\n",
    "        print(f\"   GPU: ✅ {torch.cuda.get_device_name(0)}\")\n",
    "    else:\n",
    "        print(\"   GPU: ❌ Not detected (CPU training will work fine)\")\n",
    "except ImportError:\n",
    "    print(\"   GPU: ⏳ PyTorch not fully installed yet\")\n",
    "\n",
    "print(\"\\n🎯 You're ready to start learning FastAI!\")\n"
   ],
   "id": "2b9737a8f9ba9f4e"
  },
  {
   "metadata": {},
   "cell_type": "markdown",
   "source": [
    "## Part 5: Local Development Advantages\n",
    "\n",
    "### ✅ Why Local > Kaggle for Learning\n",
    "\n",
    "1. **No time limits** - Train models as long as needed\n",
    "2. **No restarts** - Kernel won't restart during large downloads\n",
    "3. **Persistent storage** - Your work stays saved\n",
    "4. **Full control** - Install any packages, modify anything\n",
    "5. **Better debugging** - Full IDE integration available\n",
    "6. **Unlimited experiments** - No resource quotas\n",
    "\n",
    "### Next Steps\n",
    "\n",
    "Now that you have a solid foundation in:\n",
    "- ✅ Jupyter Notebook interface and shortcuts\n",
    "- ✅ Python fundamentals for ML\n",
    "- ✅ Essential data science libraries (NumPy, Pandas, Matplotlib)\n",
    "- ✅ FastAI library setup and philosophy\n",
    "- ✅ Local development advantages\n",
    "\n",
    "You're ready to dive into the FastAI course materials! Check out the original course notebooks in the `kaggle/` folder for the official Jeremy Howard tutorials.\n"
   ],
   "id": "c132de3408823931"
  },
  {
   "metadata": {},
   "cell_type": "markdown",
   "source": [
    "## Markdown Formatting Reference\n",
    "\n",
    "Since you'll be writing a lot of markdown in your notebooks, here's a quick reference:\n",
    "\n",
    "### Headers\n",
    "```markdown\n",
    "# Header 1\n",
    "## Header 2\n",
    "### Header 3\n",
    "```\n",
    "\n",
    "### Text Formatting\n",
    "- **Bold text**: `**bold**` or `__bold__`\n",
    "- *Italic text*: `*italic*` or `_italic_`\n",
    "- `Code`: `` `code` ``\n",
    "- ~~Strikethrough~~: `~~strikethrough~~`\n",
    "\n",
    "### Lists\n",
    "```markdown\n",
    "- Unordered list item\n",
    "- Another item\n",
    "\n",
    "1. Ordered list item\n",
    "2. Another item\n",
    "```\n",
    "\n",
    "### Links and Images\n",
    "```markdown\n",
    "[Link text](https://example.com)\n",
    "![Image alt text](image-url.jpg)\n",
    "```\n",
    "\n",
    "### Code Blocks\n",
    "````markdown\n",
    "```python\n",
    "def hello_world():\n",
    "    print(\"Hello, World!\")\n",
    "```\n",
    "````\n",
    "\n",
    "### Tables\n",
    "```markdown\n",
    "| Column 1 | Column 2 |\n",
    "|----------|----------|\n",
    "| Row 1    | Data 1   |\n",
    "| Row 2    | Data 2   |\n",
    "```\n",
    "\n",
    "That's it! You now have everything you need to use Jupyter Notebooks effectively for the FastAI course. Happy learning! 🚀"
   ],
   "id": "dc6f4aac84c1155a"
  }
 ],
 "metadata": {},
 "nbformat": 4,
 "nbformat_minor": 5
}
